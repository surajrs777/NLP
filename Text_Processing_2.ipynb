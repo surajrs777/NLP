{
  "nbformat": 4,
  "nbformat_minor": 0,
  "metadata": {
    "colab": {
      "name": "Text Processing - 2.ipynb",
      "provenance": [],
      "collapsed_sections": [],
      "include_colab_link": true
    },
    "kernelspec": {
      "name": "python3",
      "display_name": "Python 3"
    },
    "language_info": {
      "name": "python"
    }
  },
  "cells": [
    {
      "cell_type": "markdown",
      "metadata": {
        "id": "view-in-github",
        "colab_type": "text"
      },
      "source": [
        "<a href=\"https://colab.research.google.com/github/surajrs777/NLP/blob/main/Text_Processing_2.ipynb\" target=\"_parent\"><img src=\"https://colab.research.google.com/assets/colab-badge.svg\" alt=\"Open In Colab\"/></a>"
      ]
    },
    {
      "cell_type": "markdown",
      "metadata": {
        "id": "jGw4rZtTWJdX"
      },
      "source": [
        "**Text Processing - 2**\n",
        "1. Accessing Text Corpora\n",
        " 1. Gutenberg Corpus\n",
        " 2. Web and Chat Text\n",
        " 3. Brown Corpus\n",
        " 4. Annotated Text Corpora\n",
        " 5. Corpora in other languages\n",
        " 6. Text Corpus Structure\n",
        " 7. Loading your own corpus\n",
        "2. Word Counting\n",
        "3. Word Vocabulary\n",
        "4. Bag-of-words, BOW Model\n",
        "5. TF/IDF Vectorizer\n",
        "6. Tokenisation and Word Frequencies \n",
        "7. Sentence Segmentation\n",
        "8. Removing Stop Words with NLTK\n"
      ]
    },
    {
      "cell_type": "code",
      "metadata": {
        "id": "FiYmF_lIY-BG"
      },
      "source": [
        ""
      ],
      "execution_count": null,
      "outputs": []
    },
    {
      "cell_type": "code",
      "metadata": {
        "id": "k7797H-qV9Yb"
      },
      "source": [
        ""
      ],
      "execution_count": null,
      "outputs": []
    }
  ]
}