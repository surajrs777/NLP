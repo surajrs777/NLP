{
  "nbformat": 4,
  "nbformat_minor": 0,
  "metadata": {
    "colab": {
      "name": "Information Extraction_07.ipynb",
      "provenance": [],
      "collapsed_sections": [],
      "include_colab_link": true
    },
    "kernelspec": {
      "name": "python3",
      "display_name": "Python 3"
    },
    "language_info": {
      "name": "python"
    }
  },
  "cells": [
    {
      "cell_type": "markdown",
      "metadata": {
        "id": "view-in-github",
        "colab_type": "text"
      },
      "source": [
        "<a href=\"https://colab.research.google.com/github/surajrs777/NLP/blob/main/Information_Extraction_07.ipynb\" target=\"_parent\"><img src=\"https://colab.research.google.com/assets/colab-badge.svg\" alt=\"Open In Colab\"/></a>"
      ]
    },
    {
      "cell_type": "markdown",
      "metadata": {
        "id": "xXcrGiTeV4Uz"
      },
      "source": [
        "**Information Extraction**\n",
        "1.\tPart-of-Speech Tagging\n",
        "2.\tChunking\n",
        "3.\tChinking\n",
        "4.\tNamed Entity Recognition\n",
        "5.\tRelation Extraction\n"
      ]
    },
    {
      "cell_type": "code",
      "metadata": {
        "id": "vu0HLmhuWLjP"
      },
      "source": [
        "# import the necessary libraries\n",
        "import nltk\n",
        "import string\n",
        "import re"
      ],
      "execution_count": null,
      "outputs": []
    },
    {
      "cell_type": "markdown",
      "metadata": {
        "id": "Y70bExeUV925"
      },
      "source": [
        "**1.\tPart-of-Speech Tagging**"
      ]
    },
    {
      "cell_type": "code",
      "metadata": {
        "colab": {
          "base_uri": "https://localhost:8080/"
        },
        "id": "CXUvpUhKWTAX",
        "outputId": "760b7880-3e06-4008-d249-c550b1d7e831"
      },
      "source": [
        "nltk.download('punkt')\n",
        "nltk.download('averaged_perceptron_tagger')"
      ],
      "execution_count": null,
      "outputs": [
        {
          "output_type": "stream",
          "text": [
            "[nltk_data] Downloading package punkt to /root/nltk_data...\n",
            "[nltk_data]   Unzipping tokenizers/punkt.zip.\n",
            "[nltk_data] Downloading package averaged_perceptron_tagger to\n",
            "[nltk_data]     /root/nltk_data...\n",
            "[nltk_data]   Unzipping taggers/averaged_perceptron_tagger.zip.\n"
          ],
          "name": "stdout"
        },
        {
          "output_type": "execute_result",
          "data": {
            "text/plain": [
              "True"
            ]
          },
          "metadata": {
            "tags": []
          },
          "execution_count": 5
        }
      ]
    },
    {
      "cell_type": "code",
      "metadata": {
        "colab": {
          "base_uri": "https://localhost:8080/"
        },
        "id": "lBJRJk7fVwtU",
        "outputId": "53aa2da0-c4a5-41bb-d187-4723a3db3c77"
      },
      "source": [
        "from nltk.tokenize import word_tokenize\n",
        "from nltk import pos_tag\n",
        "\n",
        "# convert text into word_tokens with their tags\n",
        "def pos_tagging(text):\n",
        "\tword_tokens = word_tokenize(text)\n",
        "\treturn pos_tag(word_tokens)\n",
        "\n",
        "pos_tagging('You just gave me a scare')\n"
      ],
      "execution_count": null,
      "outputs": [
        {
          "output_type": "execute_result",
          "data": {
            "text/plain": [
              "[('You', 'PRP'),\n",
              " ('just', 'RB'),\n",
              " ('gave', 'VBD'),\n",
              " ('me', 'PRP'),\n",
              " ('a', 'DT'),\n",
              " ('scare', 'NN')]"
            ]
          },
          "metadata": {
            "tags": []
          },
          "execution_count": 6
        }
      ]
    },
    {
      "cell_type": "code",
      "metadata": {
        "colab": {
          "base_uri": "https://localhost:8080/"
        },
        "id": "URa7Npa_WtY9",
        "outputId": "700f0d8e-f119-4767-c466-17773db609ef"
      },
      "source": [
        "# download the tagset \n",
        "nltk.download('tagsets')"
      ],
      "execution_count": null,
      "outputs": [
        {
          "output_type": "stream",
          "text": [
            "[nltk_data] Downloading package tagsets to /root/nltk_data...\n",
            "[nltk_data]   Package tagsets is already up-to-date!\n"
          ],
          "name": "stdout"
        },
        {
          "output_type": "execute_result",
          "data": {
            "text/plain": [
              "True"
            ]
          },
          "metadata": {
            "tags": []
          },
          "execution_count": 9
        }
      ]
    },
    {
      "cell_type": "code",
      "metadata": {
        "colab": {
          "base_uri": "https://localhost:8080/"
        },
        "id": "X5GPhuvDWkT_",
        "outputId": "33a8e56d-1a91-4a12-c9ee-619c65dbf5f7"
      },
      "source": [
        "\n",
        "# extract information about the tag\n",
        "nltk.help.upenn_tagset('NN')\n"
      ],
      "execution_count": null,
      "outputs": [
        {
          "output_type": "stream",
          "text": [
            "NN: noun, common, singular or mass\n",
            "    common-carrier cabbage knuckle-duster Casino afghan shed thermostat\n",
            "    investment slide humour falloff slick wind hyena override subhumanity\n",
            "    machinist ...\n"
          ],
          "name": "stdout"
        }
      ]
    },
    {
      "cell_type": "markdown",
      "metadata": {
        "id": "WN3y3pRUWzsp"
      },
      "source": [
        "**2.\tChunking**"
      ]
    },
    {
      "cell_type": "code",
      "metadata": {
        "colab": {
          "base_uri": "https://localhost:8080/"
        },
        "id": "U1PArQoPYS6h",
        "outputId": "c8540e85-8cda-4f42-c17d-0a6251ec8644"
      },
      "source": [
        "# Laading Library\n",
        "from nltk.chunk.regexp import tag_pattern2re_pattern\n",
        "\n",
        "# Chunk Pattern to RegEx Pattern\n",
        "print(\"Chunk Pattern : \", tag_pattern2re_pattern('<DT>?<NN.*>+'))\n"
      ],
      "execution_count": null,
      "outputs": [
        {
          "output_type": "stream",
          "text": [
            "Chunk Pattern :  (<(DT)>)?(<(NN[^\\{\\}<>]*)>)+\n"
          ],
          "name": "stdout"
        }
      ]
    },
    {
      "cell_type": "code",
      "metadata": {
        "colab": {
          "base_uri": "https://localhost:8080/"
        },
        "id": "BvIbP--rZXnQ",
        "outputId": "0b5a8179-d054-418b-f304-bdaf37b1055f"
      },
      "source": [
        "locs = [('Omnicom', 'IN', 'New York'),\n",
        "...         ('DDB Needham', 'IN', 'New York'),\n",
        "...         ('Kaplan Thaler Group', 'IN', 'New York'),\n",
        "...         ('BBDO South', 'IN', 'Atlanta'),\n",
        "...         ('Georgia-Pacific', 'IN', 'Atlanta')]\n",
        "query = [e1 for (e1, rel, e2) in locs if e2=='Atlanta']\n",
        "print(query)\n",
        "\n",
        "def ie_preprocess(document):\n",
        "...    sentences = nltk.sent_tokenize(document) \n",
        "...    sentences = [nltk.word_tokenize(sent) for sent in sentences]\n",
        "...    sentences = [nltk.pos_tag(sent) for sent in sentences] \n",
        "\n",
        "sentence = [(\"the\", \"DT\"), (\"little\", \"JJ\"), (\"yellow\", \"JJ\"),\n",
        "... (\"dog\", \"NN\"), (\"barked\", \"VBD\"), (\"at\", \"IN\"),  (\"the\", \"DT\"), (\"cat\", \"NN\")]\n",
        "grammar = \"NP: {<DT>?<JJ>*<NN>}\"\n",
        "cp = nltk.RegexpParser(grammar)\n",
        "result = cp.parse(sentence)\n",
        "print(result)"
      ],
      "execution_count": null,
      "outputs": [
        {
          "output_type": "stream",
          "text": [
            "['BBDO South', 'Georgia-Pacific']\n",
            "(S\n",
            "  (NP the/DT little/JJ yellow/JJ dog/NN)\n",
            "  barked/VBD\n",
            "  at/IN\n",
            "  (NP the/DT cat/NN))\n"
          ],
          "name": "stdout"
        }
      ]
    },
    {
      "cell_type": "markdown",
      "metadata": {
        "id": "bBUIhHwnZOvq"
      },
      "source": [
        "**3.\tChinking**"
      ]
    },
    {
      "cell_type": "code",
      "metadata": {
        "colab": {
          "base_uri": "https://localhost:8080/"
        },
        "id": "MTTqrL_BZrUV",
        "outputId": "52d10176-0b6f-4a98-aefb-e3be0e55854c"
      },
      "source": [
        "grammar = r\"\"\"\n",
        "  NP: {<DT|PP\\$>?<JJ>*<NN>}  \n",
        "      {<NNP>+}                \n",
        "\"\"\"\n",
        "cp = nltk.RegexpParser(grammar)\n",
        "sentence = [(\"Rapunzel\", \"NNP\"), (\"let\", \"VBD\"), (\"down\", \"RP\"), \n",
        "                 (\"her\", \"PP$\"), (\"long\", \"JJ\"), (\"golden\", \"JJ\"), (\"hair\", \"NN\")]\n",
        "print(cp.parse(sentence))"
      ],
      "execution_count": null,
      "outputs": [
        {
          "output_type": "stream",
          "text": [
            "(S\n",
            "  (NP Rapunzel/NNP)\n",
            "  let/VBD\n",
            "  down/RP\n",
            "  (NP her/PP$ long/JJ golden/JJ hair/NN))\n"
          ],
          "name": "stdout"
        }
      ]
    },
    {
      "cell_type": "code",
      "metadata": {
        "colab": {
          "base_uri": "https://localhost:8080/"
        },
        "id": "29s5vhaBZvnN",
        "outputId": "2a3cf15a-6aac-4648-87fd-530bed1a7a78"
      },
      "source": [
        "nouns = [(\"money\", \"NN\"), (\"market\", \"NN\"), (\"fund\", \"NN\")]\n",
        "grammar = \"NP: {<NN><NN>}  # Chunk two consecutive nouns\"\n",
        "cp = nltk.RegexpParser(grammar)\n",
        "print(cp.parse(nouns))"
      ],
      "execution_count": null,
      "outputs": [
        {
          "output_type": "stream",
          "text": [
            "(S (NP money/NN market/NN) fund/NN)\n"
          ],
          "name": "stdout"
        }
      ]
    },
    {
      "cell_type": "markdown",
      "metadata": {
        "id": "FIPksh0ZZ0sp"
      },
      "source": [
        "**4.\tNamed Entity Recognition**"
      ]
    },
    {
      "cell_type": "code",
      "metadata": {
        "colab": {
          "base_uri": "https://localhost:8080/"
        },
        "id": "f1i6xsZ-Z_oW",
        "outputId": "bdd273d5-ae18-43f4-f296-7a0f4f529e8c"
      },
      "source": [
        "nltk.download('words')\n",
        "nltk.download('maxent_ne_chunker')"
      ],
      "execution_count": null,
      "outputs": [
        {
          "output_type": "stream",
          "text": [
            "[nltk_data] Downloading package words to /root/nltk_data...\n",
            "[nltk_data]   Unzipping corpora/words.zip.\n",
            "[nltk_data] Downloading package maxent_ne_chunker to\n",
            "[nltk_data]     /root/nltk_data...\n",
            "[nltk_data]   Package maxent_ne_chunker is already up-to-date!\n"
          ],
          "name": "stdout"
        },
        {
          "output_type": "execute_result",
          "data": {
            "text/plain": [
              "True"
            ]
          },
          "metadata": {
            "tags": []
          },
          "execution_count": 41
        }
      ]
    },
    {
      "cell_type": "code",
      "metadata": {
        "colab": {
          "base_uri": "https://localhost:8080/"
        },
        "id": "AGJE9euoZ2gF",
        "outputId": "e6638c75-e238-446d-b9b5-3ebd3ef3fb5a"
      },
      "source": [
        "from nltk.tokenize import word_tokenize\n",
        "from nltk import pos_tag, ne_chunk\n",
        "\n",
        "def named_entity_recognition(text):\n",
        "\t# tokenize the text\n",
        "\tword_tokens = word_tokenize(text)\n",
        "\n",
        "\t# part of speech tagging of words\n",
        "\tword_pos = pos_tag(word_tokens)\n",
        "\n",
        "\t# tree of word entities\n",
        "\tprint(ne_chunk(word_pos))\n",
        "\n",
        "text = 'Bill works for GeeksforGeeks so he went to Delhi for a meetup.'\n",
        "named_entity_recognition(text)\n"
      ],
      "execution_count": null,
      "outputs": [
        {
          "output_type": "stream",
          "text": [
            "(S\n",
            "  (PERSON Bill/NNP)\n",
            "  works/VBZ\n",
            "  for/IN\n",
            "  (ORGANIZATION GeeksforGeeks/NNP)\n",
            "  so/RB\n",
            "  he/PRP\n",
            "  went/VBD\n",
            "  to/TO\n",
            "  (GPE Delhi/NNP)\n",
            "  for/IN\n",
            "  a/DT\n",
            "  meetup/NN\n",
            "  ./.)\n"
          ],
          "name": "stdout"
        }
      ]
    },
    {
      "cell_type": "markdown",
      "metadata": {
        "id": "oiZqV9kLaRs2"
      },
      "source": [
        "**5.\tRelation Extraction**"
      ]
    },
    {
      "cell_type": "code",
      "metadata": {
        "colab": {
          "base_uri": "https://localhost:8080/"
        },
        "id": "E6VeFT1PaqB7",
        "outputId": "97b52bd1-d914-471c-f838-675dfa18f645"
      },
      "source": [
        "nltk.download('ieer')"
      ],
      "execution_count": null,
      "outputs": [
        {
          "output_type": "stream",
          "text": [
            "[nltk_data] Downloading package ieer to /root/nltk_data...\n",
            "[nltk_data]   Package ieer is already up-to-date!\n"
          ],
          "name": "stdout"
        },
        {
          "output_type": "execute_result",
          "data": {
            "text/plain": [
              "True"
            ]
          },
          "metadata": {
            "tags": []
          },
          "execution_count": 46
        }
      ]
    },
    {
      "cell_type": "code",
      "metadata": {
        "colab": {
          "base_uri": "https://localhost:8080/"
        },
        "id": "2thd4oLbaccS",
        "outputId": "38c93117-c75c-47df-a58c-5ba17defb38e"
      },
      "source": [
        "import nltk\n",
        "IN = re.compile(r'.*\\bin\\b(?!\\b.+ing)')\n",
        "for doc in nltk.corpus.ieer.parsed_docs('NYT_19980315'):\n",
        " for rel in nltk.sem.extract_rels('ORG', 'LOC', doc,\n",
        "                         corpus='ieer', pattern = IN):\n",
        "  print(nltk.sem.rtuple(rel))"
      ],
      "execution_count": null,
      "outputs": [
        {
          "output_type": "stream",
          "text": [
            "[ORG: 'WHYY'] 'in' [LOC: 'Philadelphia']\n",
            "[ORG: 'McGlashan &AMP; Sarrail'] 'firm in' [LOC: 'San Mateo']\n",
            "[ORG: 'Freedom Forum'] 'in' [LOC: 'Arlington']\n",
            "[ORG: 'Brookings Institution'] ', the research group in' [LOC: 'Washington']\n",
            "[ORG: 'Idealab'] ', a self-described business incubator based in' [LOC: 'Los Angeles']\n",
            "[ORG: 'Open Text'] ', based in' [LOC: 'Waterloo']\n",
            "[ORG: 'WGBH'] 'in' [LOC: 'Boston']\n",
            "[ORG: 'Bastille Opera'] 'in' [LOC: 'Paris']\n",
            "[ORG: 'Omnicom'] 'in' [LOC: 'New York']\n",
            "[ORG: 'DDB Needham'] 'in' [LOC: 'New York']\n",
            "[ORG: 'Kaplan Thaler Group'] 'in' [LOC: 'New York']\n",
            "[ORG: 'BBDO South'] 'in' [LOC: 'Atlanta']\n",
            "[ORG: 'Georgia-Pacific'] 'in' [LOC: 'Atlanta']\n"
          ],
          "name": "stdout"
        }
      ]
    },
    {
      "cell_type": "code",
      "metadata": {
        "colab": {
          "base_uri": "https://localhost:8080/"
        },
        "id": "DM9D4cqEauOH",
        "outputId": "97c23773-b1b9-4ac9-e1d0-670279497f51"
      },
      "source": [
        "nltk.download('conll2002')"
      ],
      "execution_count": null,
      "outputs": [
        {
          "output_type": "stream",
          "text": [
            "[nltk_data] Downloading package conll2002 to /root/nltk_data...\n",
            "[nltk_data]   Package conll2002 is already up-to-date!\n"
          ],
          "name": "stdout"
        },
        {
          "output_type": "execute_result",
          "data": {
            "text/plain": [
              "True"
            ]
          },
          "metadata": {
            "tags": []
          },
          "execution_count": 48
        }
      ]
    },
    {
      "cell_type": "code",
      "metadata": {
        "colab": {
          "base_uri": "https://localhost:8080/"
        },
        "id": "mnIL4gzpajgB",
        "outputId": "1ab2fa47-7fff-4aed-ce09-2b22e08d5f68"
      },
      "source": [
        "from nltk.corpus import conll2002\n",
        "vnv = \"\"\"\n",
        "(\n",
        "is/V|    # 3rd sing present and\n",
        "was/V|   # past forms of the verb zijn ('be')\n",
        "werd/V|  # and also present\n",
        "wordt/V  # past of worden ('become)\n",
        ")\n",
        " .*       # followed by anything\n",
        "van/Prep # followed by van ('of')\n",
        "\"\"\"\n",
        "\n",
        "VAN = re.compile(vnv, re.VERBOSE)\n",
        "for doc in conll2002.chunked_sents('ned.train'):\n",
        " for rel in nltk.sem.extract_rels('PER', 'ORG', doc,\n",
        "                                corpus='conll2002', pattern=VAN):\n",
        "  print(nltk.sem.clause(rel, relsym=\"VAN\"))"
      ],
      "execution_count": null,
      "outputs": [
        {
          "output_type": "stream",
          "text": [
            "VAN(\"cornet_d'elzius\", 'buitenlandse_handel')\n",
            "VAN('johan_rottiers', 'kardinaal_van_roey_instituut')\n",
            "VAN('annie_lennox', 'eurythmics')\n"
          ],
          "name": "stdout"
        }
      ]
    }
  ]
}