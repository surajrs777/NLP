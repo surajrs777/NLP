{
  "nbformat": 4,
  "nbformat_minor": 0,
  "metadata": {
    "colab": {
      "name": "Using Wordnet Finding Synonym and Antonym_09.ipynb",
      "provenance": [],
      "collapsed_sections": [],
      "include_colab_link": true
    },
    "kernelspec": {
      "name": "python3",
      "display_name": "Python 3"
    },
    "language_info": {
      "name": "python"
    }
  },
  "cells": [
    {
      "cell_type": "markdown",
      "metadata": {
        "id": "view-in-github",
        "colab_type": "text"
      },
      "source": [
        "<a href=\"https://colab.research.google.com/github/surajrs777/NLP/blob/main/Using_Wordnet_Finding_Synonym_and_Antonym_09.ipynb\" target=\"_parent\"><img src=\"https://colab.research.google.com/assets/colab-badge.svg\" alt=\"Open In Colab\"/></a>"
      ]
    },
    {
      "cell_type": "markdown",
      "metadata": {
        "id": "RGj4sbFMf00R"
      },
      "source": [
        "**Using Wordnet Finding Synonym and Antonym**"
      ]
    },
    {
      "cell_type": "code",
      "metadata": {
        "colab": {
          "base_uri": "https://localhost:8080/"
        },
        "id": "7GHkSSkCgSah",
        "outputId": "9d53aeeb-33b6-4bcf-c9a9-180dbd34aad8"
      },
      "source": [
        "import nltk\n",
        "nltk.download('wordnet')"
      ],
      "execution_count": null,
      "outputs": [
        {
          "output_type": "stream",
          "text": [
            "[nltk_data] Downloading package wordnet to /root/nltk_data...\n",
            "[nltk_data]   Unzipping corpora/wordnet.zip.\n"
          ],
          "name": "stdout"
        },
        {
          "output_type": "execute_result",
          "data": {
            "text/plain": [
              "True"
            ]
          },
          "metadata": {
            "tags": []
          },
          "execution_count": 4
        }
      ]
    },
    {
      "cell_type": "code",
      "metadata": {
        "colab": {
          "base_uri": "https://localhost:8080/"
        },
        "id": "SScELV08fmhE",
        "outputId": "2019d9a6-6fdd-4c30-f5a3-a09581b6b3f9"
      },
      "source": [
        "# First, you're going to need to import wordnet:\n",
        "from nltk.corpus import wordnet\n",
        "\n",
        "# Then, we're going to use the term \"program\" to find synsets like so:\n",
        "syns = wordnet.synsets(\"program\")\n",
        "\n",
        "# An example of a synset:\n",
        "print(syns[0].name())\n",
        "\n",
        "# Just the word:\n",
        "print(syns[0].lemmas()[0].name())\n",
        "\n",
        "# Definition of that first synset:\n",
        "print(syns[0].definition())\n",
        "\n",
        "# Examples of the word in use in sentences:\n",
        "print(syns[0].examples())\n"
      ],
      "execution_count": null,
      "outputs": [
        {
          "output_type": "stream",
          "text": [
            "plan.n.01\n",
            "plan\n",
            "a series of steps to be carried out or goals to be accomplished\n",
            "['they drew up a six-step plan', 'they discussed plans for a new bond issue']\n"
          ],
          "name": "stdout"
        }
      ]
    },
    {
      "cell_type": "code",
      "metadata": {
        "colab": {
          "base_uri": "https://localhost:8080/"
        },
        "id": "ej5F2UZNggUw",
        "outputId": "e4dddb69-0437-431c-d417-16298c16dbd9"
      },
      "source": [
        "import nltk\n",
        "from nltk.corpus import wordnet\n",
        "synonyms = []\n",
        "antonyms = []\n",
        "\n",
        "for syn in wordnet.synsets(\"good\"):\n",
        "\tfor l in syn.lemmas():\n",
        "\t\tsynonyms.append(l.name())\n",
        "\t\tif l.antonyms():\n",
        "\t\t\tantonyms.append(l.antonyms()[0].name())\n",
        "\n",
        "print(set(synonyms))\n",
        "print(set(antonyms))\n"
      ],
      "execution_count": null,
      "outputs": [
        {
          "output_type": "stream",
          "text": [
            "{'trade_good', 'ripe', 'adept', 'good', 'upright', 'safe', 'expert', 'effective', 'secure', 'dependable', 'honest', 'right', 'serious', 'undecomposed', 'near', 'unspoilt', 'well', 'unspoiled', 'dear', 'respectable', 'soundly', 'proficient', 'honorable', 'skilful', 'commodity', 'estimable', 'beneficial', 'salutary', 'skillful', 'goodness', 'sound', 'just', 'in_force', 'in_effect', 'practiced', 'thoroughly', 'full'}\n",
            "{'badness', 'evilness', 'evil', 'bad', 'ill'}\n"
          ],
          "name": "stdout"
        }
      ]
    },
    {
      "cell_type": "code",
      "metadata": {
        "id": "N-SXEdGygjpO",
        "colab": {
          "base_uri": "https://localhost:8080/"
        },
        "outputId": "f42997a2-0011-4381-b9d9-5f43e1482f4e"
      },
      "source": [
        "import nltk\n",
        "from nltk.corpus import wordnet\n",
        "# Let's compare the noun of \"ship\" and \"boat:\"\n",
        "\n",
        "w1 = wordnet.synset('run.v.01') # v here denotes the tag verb\n",
        "w2 = wordnet.synset('sprint.v.01')\n",
        "print(w1.wup_similarity(w2))\n"
      ],
      "execution_count": null,
      "outputs": [
        {
          "output_type": "stream",
          "text": [
            "0.8571428571428571\n"
          ],
          "name": "stdout"
        }
      ]
    },
    {
      "cell_type": "code",
      "metadata": {
        "id": "YIeIkaWmgnRw",
        "colab": {
          "base_uri": "https://localhost:8080/"
        },
        "outputId": "b8c04bef-637a-43a3-a35e-3ef5ccd41e8d"
      },
      "source": [
        "w1 = wordnet.synset('ship.n.01')\n",
        "w2 = wordnet.synset('boat.n.01') # n denotes noun\n",
        "print(w1.wup_similarity(w2))\n"
      ],
      "execution_count": null,
      "outputs": [
        {
          "output_type": "stream",
          "text": [
            "0.9090909090909091\n"
          ],
          "name": "stdout"
        }
      ]
    }
  ]
}