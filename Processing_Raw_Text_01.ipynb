{
  "nbformat": 4,
  "nbformat_minor": 0,
  "metadata": {
    "colab": {
      "name": "Processing Raw Text_01.ipynb",
      "provenance": [],
      "collapsed_sections": [],
      "include_colab_link": true
    },
    "kernelspec": {
      "name": "python3",
      "display_name": "Python 3"
    },
    "language_info": {
      "name": "python"
    }
  },
  "cells": [
    {
      "cell_type": "markdown",
      "metadata": {
        "id": "view-in-github",
        "colab_type": "text"
      },
      "source": [
        "<a href=\"https://colab.research.google.com/github/surajrs777/NLP/blob/main/Processing_Raw_Text_01.ipynb\" target=\"_parent\"><img src=\"https://colab.research.google.com/assets/colab-badge.svg\" alt=\"Open In Colab\"/></a>"
      ]
    },
    {
      "cell_type": "markdown",
      "metadata": {
        "id": "8tjuFZRttFrx"
      },
      "source": [
        "Processing Raw Text\n",
        "1.\tAccessing text from Web\n",
        "2.\tAccessing local text file\n",
        "3.\tAccessing text from PDF, Word and other Binary Format\n",
        "4.\tThe NLP pipeline\n",
        "\n",
        "\n"
      ]
    },
    {
      "cell_type": "markdown",
      "metadata": {
        "id": "jjAFhcD_tOvN"
      },
      "source": [
        "**1.\tAccessing text from Web**"
      ]
    },
    {
      "cell_type": "code",
      "metadata": {
        "id": "lAj64sO8-KfI"
      },
      "source": [
        "import nltk, re, pprint"
      ],
      "execution_count": null,
      "outputs": []
    },
    {
      "cell_type": "code",
      "metadata": {
        "id": "vEj-Gf6f-OQv"
      },
      "source": [
        "from nltk import word_tokenize"
      ],
      "execution_count": null,
      "outputs": []
    },
    {
      "cell_type": "code",
      "metadata": {
        "id": "aaF0v0yF88Ui"
      },
      "source": [
        "from urllib import request"
      ],
      "execution_count": null,
      "outputs": []
    },
    {
      "cell_type": "code",
      "metadata": {
        "id": "2dv9NJel9Efe"
      },
      "source": [
        "url = \"http://www.gutenberg.org/files/2554/2554-0.txt\""
      ],
      "execution_count": null,
      "outputs": []
    },
    {
      "cell_type": "code",
      "metadata": {
        "id": "FZ-NAiX99HRp"
      },
      "source": [
        "response = request.urlopen(url)"
      ],
      "execution_count": null,
      "outputs": []
    },
    {
      "cell_type": "code",
      "metadata": {
        "id": "_sq7KGje9JYK"
      },
      "source": [
        "raw = response.read().decode('utf8')"
      ],
      "execution_count": null,
      "outputs": []
    },
    {
      "cell_type": "code",
      "metadata": {
        "colab": {
          "base_uri": "https://localhost:8080/"
        },
        "id": "p_JpZwau9Ln-",
        "outputId": "4913aef6-ff45-4045-9cc8-186fddde72dc"
      },
      "source": [
        "type(raw)"
      ],
      "execution_count": null,
      "outputs": [
        {
          "output_type": "execute_result",
          "data": {
            "text/plain": [
              "str"
            ]
          },
          "metadata": {
            "tags": []
          },
          "execution_count": 12
        }
      ]
    },
    {
      "cell_type": "code",
      "metadata": {
        "colab": {
          "base_uri": "https://localhost:8080/"
        },
        "id": "vhqdp1NG9OtU",
        "outputId": "bd52b1c3-c9cc-4843-85d6-1d5b3f664f60"
      },
      "source": [
        "type(raw)"
      ],
      "execution_count": null,
      "outputs": [
        {
          "output_type": "execute_result",
          "data": {
            "text/plain": [
              "str"
            ]
          },
          "metadata": {
            "tags": []
          },
          "execution_count": 13
        }
      ]
    },
    {
      "cell_type": "code",
      "metadata": {
        "colab": {
          "base_uri": "https://localhost:8080/",
          "height": 35
        },
        "id": "nDSbGSoW9Q7L",
        "outputId": "9f3010e3-8246-4396-d39d-ebf9dcf5b1b9"
      },
      "source": [
        "raw[:75]"
      ],
      "execution_count": null,
      "outputs": [
        {
          "output_type": "execute_result",
          "data": {
            "application/vnd.google.colaboratory.intrinsic+json": {
              "type": "string"
            },
            "text/plain": [
              "'\\ufeffThe Project Gutenberg EBook of Crime and Punishment, by Fyodor Dostoevsky\\r'"
            ]
          },
          "metadata": {
            "tags": []
          },
          "execution_count": 14
        }
      ]
    },
    {
      "cell_type": "code",
      "metadata": {
        "id": "_CwyZN7H-kwg"
      },
      "source": [
        "import nltk"
      ],
      "execution_count": null,
      "outputs": []
    },
    {
      "cell_type": "code",
      "metadata": {
        "colab": {
          "base_uri": "https://localhost:8080/"
        },
        "id": "z9CKDL5F-oSb",
        "outputId": "fe45c31d-75b0-4206-df3e-4985d367a0d1"
      },
      "source": [
        "nltk.download('punkt')"
      ],
      "execution_count": null,
      "outputs": [
        {
          "output_type": "stream",
          "text": [
            "[nltk_data] Downloading package punkt to /root/nltk_data...\n",
            "[nltk_data]   Unzipping tokenizers/punkt.zip.\n"
          ],
          "name": "stdout"
        },
        {
          "output_type": "execute_result",
          "data": {
            "text/plain": [
              "True"
            ]
          },
          "metadata": {
            "tags": []
          },
          "execution_count": 26
        }
      ]
    },
    {
      "cell_type": "code",
      "metadata": {
        "id": "7E-Vpf7v9rhL"
      },
      "source": [
        "tokens = word_tokenize(raw)"
      ],
      "execution_count": null,
      "outputs": []
    },
    {
      "cell_type": "code",
      "metadata": {
        "colab": {
          "base_uri": "https://localhost:8080/"
        },
        "id": "Ex5PExSb-uE0",
        "outputId": "f75a7dbf-7f4a-434f-d256-e40b3311811b"
      },
      "source": [
        "type(tokens)"
      ],
      "execution_count": null,
      "outputs": [
        {
          "output_type": "execute_result",
          "data": {
            "text/plain": [
              "list"
            ]
          },
          "metadata": {
            "tags": []
          },
          "execution_count": 28
        }
      ]
    },
    {
      "cell_type": "code",
      "metadata": {
        "colab": {
          "base_uri": "https://localhost:8080/"
        },
        "id": "3ENSV5da-wf7",
        "outputId": "9f5590fc-4011-4dfc-86ae-e32f13c6e536"
      },
      "source": [
        "len(tokens)"
      ],
      "execution_count": null,
      "outputs": [
        {
          "output_type": "execute_result",
          "data": {
            "text/plain": [
              "257727"
            ]
          },
          "metadata": {
            "tags": []
          },
          "execution_count": 29
        }
      ]
    },
    {
      "cell_type": "code",
      "metadata": {
        "colab": {
          "base_uri": "https://localhost:8080/"
        },
        "id": "PspCPUWZ-y7K",
        "outputId": "290dda17-d01e-4c87-eac7-3171fd3287d5"
      },
      "source": [
        "tokens[:10]"
      ],
      "execution_count": null,
      "outputs": [
        {
          "output_type": "execute_result",
          "data": {
            "text/plain": [
              "['\\ufeffThe',\n",
              " 'Project',\n",
              " 'Gutenberg',\n",
              " 'EBook',\n",
              " 'of',\n",
              " 'Crime',\n",
              " 'and',\n",
              " 'Punishment',\n",
              " ',',\n",
              " 'by']"
            ]
          },
          "metadata": {
            "tags": []
          },
          "execution_count": 30
        }
      ]
    },
    {
      "cell_type": "code",
      "metadata": {
        "id": "0kOuHY6p-1Hu"
      },
      "source": [
        "text = nltk.Text(tokens)"
      ],
      "execution_count": null,
      "outputs": []
    },
    {
      "cell_type": "code",
      "metadata": {
        "colab": {
          "base_uri": "https://localhost:8080/"
        },
        "id": "BTFmDXMW-4B6",
        "outputId": "554d908f-2eef-4aa4-8fb9-c9d7b94a3641"
      },
      "source": [
        "type(text)"
      ],
      "execution_count": null,
      "outputs": [
        {
          "output_type": "execute_result",
          "data": {
            "text/plain": [
              "nltk.text.Text"
            ]
          },
          "metadata": {
            "tags": []
          },
          "execution_count": 32
        }
      ]
    },
    {
      "cell_type": "code",
      "metadata": {
        "colab": {
          "base_uri": "https://localhost:8080/"
        },
        "id": "h2EIUOqa-6EY",
        "outputId": "93a3b276-cac4-4287-fcb6-85af9a008bef"
      },
      "source": [
        "text[1024:1062]"
      ],
      "execution_count": null,
      "outputs": [
        {
          "output_type": "execute_result",
          "data": {
            "text/plain": [
              "['an',\n",
              " 'exceptionally',\n",
              " 'hot',\n",
              " 'evening',\n",
              " 'early',\n",
              " 'in',\n",
              " 'July',\n",
              " 'a',\n",
              " 'young',\n",
              " 'man',\n",
              " 'came',\n",
              " 'out',\n",
              " 'of',\n",
              " 'the',\n",
              " 'garret',\n",
              " 'in',\n",
              " 'which',\n",
              " 'he',\n",
              " 'lodged',\n",
              " 'in',\n",
              " 'S.',\n",
              " 'Place',\n",
              " 'and',\n",
              " 'walked',\n",
              " 'slowly',\n",
              " ',',\n",
              " 'as',\n",
              " 'though',\n",
              " 'in',\n",
              " 'hesitation',\n",
              " ',',\n",
              " 'towards',\n",
              " 'K.',\n",
              " 'bridge',\n",
              " '.',\n",
              " 'He',\n",
              " 'had',\n",
              " 'successfully']"
            ]
          },
          "metadata": {
            "tags": []
          },
          "execution_count": 33
        }
      ]
    },
    {
      "cell_type": "code",
      "metadata": {
        "colab": {
          "base_uri": "https://localhost:8080/"
        },
        "id": "-hNmfHi2-_uu",
        "outputId": "66fc1d59-b699-4d55-c336-3afdc92a077a"
      },
      "source": [
        "nltk.download('stopwords')"
      ],
      "execution_count": null,
      "outputs": [
        {
          "output_type": "stream",
          "text": [
            "[nltk_data] Downloading package stopwords to /root/nltk_data...\n",
            "[nltk_data]   Unzipping corpora/stopwords.zip.\n"
          ],
          "name": "stdout"
        },
        {
          "output_type": "execute_result",
          "data": {
            "text/plain": [
              "True"
            ]
          },
          "metadata": {
            "tags": []
          },
          "execution_count": 35
        }
      ]
    },
    {
      "cell_type": "code",
      "metadata": {
        "colab": {
          "base_uri": "https://localhost:8080/"
        },
        "id": "_3LDANob-84I",
        "outputId": "ea96fe91-c105-4567-ad17-824f17396ce6"
      },
      "source": [
        "text.collocations()"
      ],
      "execution_count": null,
      "outputs": [
        {
          "output_type": "stream",
          "text": [
            "Katerina Ivanovna; Pyotr Petrovitch; Pulcheria Alexandrovna; Avdotya\n",
            "Romanovna; Rodion Romanovitch; Marfa Petrovna; Sofya Semyonovna; old\n",
            "woman; Project Gutenberg-tm; Porfiry Petrovitch; Amalia Ivanovna;\n",
            "great deal; young man; Nikodim Fomitch; Ilya Petrovitch; Project\n",
            "Gutenberg; Andrey Semyonovitch; Hay Market; Dmitri Prokofitch; Good\n",
            "heavens\n"
          ],
          "name": "stdout"
        }
      ]
    },
    {
      "cell_type": "code",
      "metadata": {
        "colab": {
          "base_uri": "https://localhost:8080/"
        },
        "id": "k4vKAkH7_Djv",
        "outputId": "8b27257a-fa34-4cce-e555-71e222b51462"
      },
      "source": [
        "raw.find(\"PART I\")"
      ],
      "execution_count": null,
      "outputs": [
        {
          "output_type": "execute_result",
          "data": {
            "text/plain": [
              "5336"
            ]
          },
          "metadata": {
            "tags": []
          },
          "execution_count": 37
        }
      ]
    },
    {
      "cell_type": "code",
      "metadata": {
        "colab": {
          "base_uri": "https://localhost:8080/"
        },
        "id": "pQajj62G_Gx_",
        "outputId": "c2259f86-044c-4ba2-c9d7-b20e7fda633c"
      },
      "source": [
        "raw.rfind(\"End of Project Gutenberg's Crime\")"
      ],
      "execution_count": null,
      "outputs": [
        {
          "output_type": "execute_result",
          "data": {
            "text/plain": [
              "-1"
            ]
          },
          "metadata": {
            "tags": []
          },
          "execution_count": 38
        }
      ]
    },
    {
      "cell_type": "code",
      "metadata": {
        "id": "oHM7uLVh_KwS"
      },
      "source": [
        "raw = raw[5338:1157743]"
      ],
      "execution_count": null,
      "outputs": []
    },
    {
      "cell_type": "code",
      "metadata": {
        "colab": {
          "base_uri": "https://localhost:8080/"
        },
        "id": "FwhjMBK4_Oog",
        "outputId": "ed1c0ca4-0871-4059-b370-caa84bcf6200"
      },
      "source": [
        "raw.find(\"PART I\")"
      ],
      "execution_count": null,
      "outputs": [
        {
          "output_type": "execute_result",
          "data": {
            "text/plain": [
              "195769"
            ]
          },
          "metadata": {
            "tags": []
          },
          "execution_count": 40
        }
      ]
    },
    {
      "cell_type": "markdown",
      "metadata": {
        "id": "g71vFjxmGFP1"
      },
      "source": [
        "**2.\tAccessing local text file**"
      ]
    },
    {
      "cell_type": "code",
      "metadata": {
        "id": "WHhhXIX__gGf"
      },
      "source": [
        "f = open('document.txt')"
      ],
      "execution_count": null,
      "outputs": []
    },
    {
      "cell_type": "code",
      "metadata": {
        "id": "9rz_zU6HAamL"
      },
      "source": [
        "raw = f.read()"
      ],
      "execution_count": null,
      "outputs": []
    },
    {
      "cell_type": "code",
      "metadata": {
        "id": "CXG1wkjFAelY"
      },
      "source": [
        "f = open('document.txt')"
      ],
      "execution_count": null,
      "outputs": []
    },
    {
      "cell_type": "code",
      "metadata": {
        "id": "LBgCMXZuAhZR"
      },
      "source": [
        "import os"
      ],
      "execution_count": null,
      "outputs": []
    },
    {
      "cell_type": "code",
      "metadata": {
        "colab": {
          "base_uri": "https://localhost:8080/"
        },
        "id": "ifvRUgrGAlzb",
        "outputId": "e9e9dabe-e899-4681-9aff-4d24641b2507"
      },
      "source": [
        "os.listdir('.')"
      ],
      "execution_count": null,
      "outputs": [
        {
          "output_type": "execute_result",
          "data": {
            "text/plain": [
              "['.config', 'document.txt', 'sample_data']"
            ]
          },
          "metadata": {
            "tags": []
          },
          "execution_count": 45
        }
      ]
    },
    {
      "cell_type": "code",
      "metadata": {
        "colab": {
          "base_uri": "https://localhost:8080/",
          "height": 160
        },
        "id": "EZilwoeuAoxV",
        "outputId": "94afd4b0-37ca-4ddb-ff0a-f3ea280d3497"
      },
      "source": [
        "f.read()"
      ],
      "execution_count": null,
      "outputs": [
        {
          "output_type": "execute_result",
          "data": {
            "application/vnd.google.colaboratory.intrinsic+json": {
              "type": "string"
            },
            "text/plain": [
              "'Natural Language Processing, or NLP for short, is broadly defined as the automatic manipulation of natural language, like speech and text, by software.\\n\\nThe study of natural language processing has been around for more than 50 years and grew out of the field of linguistics with the rise of computers.\\n\\nIn this post, you will discover what natural language processing is and why it is so important.\\n\\nAfter reading this post, you will know:\\n\\nWhat natural language is and how it is different from other types of data.\\nWhat makes working with natural language so challenging.\\nWhere the field of NLP came from and how it is defined by modern practitioners.\\nKick-start your project with my new book Deep Learning for Natural Language Processing, including step-by-step tutorials and the Python source code files for all examples.\\nNLP uses perceptual, behavioral, and communication techniques to make it easier for people to change their thoughts and actions.\\n\\nNLP relies on language processing but should not be confused with natural language processing, which shares the same acronym.\\n\\nNLP was developed by Richard Bandler and John Grinder, who believed it was possible to identify the patterns of thoughts and behaviors of successful individuals and to teach them to others.\\n\\nDespite a lack of empirical evidence to support it, Bandler and Grinder published two books, The Structure of Magic I and II, and NLP took off. Its popularity was partly due to its versatility in addressing the many diverse issues that people face.'"
            ]
          },
          "metadata": {
            "tags": []
          },
          "execution_count": 46
        }
      ]
    },
    {
      "cell_type": "code",
      "metadata": {
        "colab": {
          "base_uri": "https://localhost:8080/"
        },
        "id": "RFXb6ymyAzHf",
        "outputId": "463d5bef-38d6-426f-e777-4cca3bfdcbbc"
      },
      "source": [
        "f = open('document.txt', 'rU')"
      ],
      "execution_count": null,
      "outputs": [
        {
          "output_type": "stream",
          "text": [
            "/usr/local/lib/python3.7/dist-packages/ipykernel_launcher.py:1: DeprecationWarning: 'U' mode is deprecated\n",
            "  \"\"\"Entry point for launching an IPython kernel.\n"
          ],
          "name": "stderr"
        }
      ]
    },
    {
      "cell_type": "code",
      "metadata": {
        "colab": {
          "base_uri": "https://localhost:8080/"
        },
        "id": "0IkQ_3blA5u1",
        "outputId": "9f43883b-4fa9-43b6-9c77-27a5aa61d659"
      },
      "source": [
        "for line in f:\n",
        "...     print(line.strip())"
      ],
      "execution_count": null,
      "outputs": [
        {
          "output_type": "stream",
          "text": [
            "Natural Language Processing, or NLP for short, is broadly defined as the automatic manipulation of natural language, like speech and text, by software.\n",
            "\n",
            "The study of natural language processing has been around for more than 50 years and grew out of the field of linguistics with the rise of computers.\n",
            "\n",
            "In this post, you will discover what natural language processing is and why it is so important.\n",
            "\n",
            "After reading this post, you will know:\n",
            "\n",
            "What natural language is and how it is different from other types of data.\n",
            "What makes working with natural language so challenging.\n",
            "Where the field of NLP came from and how it is defined by modern practitioners.\n",
            "Kick-start your project with my new book Deep Learning for Natural Language Processing, including step-by-step tutorials and the Python source code files for all examples.\n",
            "NLP uses perceptual, behavioral, and communication techniques to make it easier for people to change their thoughts and actions.\n",
            "\n",
            "NLP relies on language processing but should not be confused with natural language processing, which shares the same acronym.\n",
            "\n",
            "NLP was developed by Richard Bandler and John Grinder, who believed it was possible to identify the patterns of thoughts and behaviors of successful individuals and to teach them to others.\n",
            "\n",
            "Despite a lack of empirical evidence to support it, Bandler and Grinder published two books, The Structure of Magic I and II, and NLP took off. Its popularity was partly due to its versatility in addressing the many diverse issues that people face.\n"
          ],
          "name": "stdout"
        }
      ]
    },
    {
      "cell_type": "code",
      "metadata": {
        "colab": {
          "base_uri": "https://localhost:8080/"
        },
        "id": "vCmXNnVcBEqb",
        "outputId": "7d1a1ee0-795b-4d4a-8c20-aeecaa0e9cbb"
      },
      "source": [
        "nltk.download('gutenberg')"
      ],
      "execution_count": null,
      "outputs": [
        {
          "output_type": "stream",
          "text": [
            "[nltk_data] Downloading package gutenberg to /root/nltk_data...\n",
            "[nltk_data]   Unzipping corpora/gutenberg.zip.\n"
          ],
          "name": "stdout"
        },
        {
          "output_type": "execute_result",
          "data": {
            "text/plain": [
              "True"
            ]
          },
          "metadata": {
            "tags": []
          },
          "execution_count": 50
        }
      ]
    },
    {
      "cell_type": "code",
      "metadata": {
        "id": "5TntpdvsBBcl"
      },
      "source": [
        "path = nltk.data.find('corpora/gutenberg/melville-moby_dick.txt')"
      ],
      "execution_count": null,
      "outputs": []
    },
    {
      "cell_type": "code",
      "metadata": {
        "colab": {
          "base_uri": "https://localhost:8080/"
        },
        "id": "BeKlbfqVBJcn",
        "outputId": "6123077f-4d6b-480c-d14d-822771076f2d"
      },
      "source": [
        "raw = open(path, 'rU').read()"
      ],
      "execution_count": null,
      "outputs": [
        {
          "output_type": "stream",
          "text": [
            "/usr/local/lib/python3.7/dist-packages/ipykernel_launcher.py:1: DeprecationWarning: 'U' mode is deprecated\n",
            "  \"\"\"Entry point for launching an IPython kernel.\n"
          ],
          "name": "stderr"
        }
      ]
    },
    {
      "cell_type": "markdown",
      "metadata": {
        "id": "cRs0KYBHGUr1"
      },
      "source": [
        "**3.\tAccessing text from PDF, Word and other Binary Format**"
      ]
    },
    {
      "cell_type": "code",
      "metadata": {
        "colab": {
          "base_uri": "https://localhost:8080/"
        },
        "id": "wLQE6xOpBOM_",
        "outputId": "dfb0b468-e311-4a62-c214-efd1ef030eb7"
      },
      "source": [
        "s = input(\"Enter some text: \")"
      ],
      "execution_count": null,
      "outputs": [
        {
          "output_type": "stream",
          "text": [
            "Enter some text: Natural Language Processing\n"
          ],
          "name": "stdout"
        }
      ]
    },
    {
      "cell_type": "code",
      "metadata": {
        "colab": {
          "base_uri": "https://localhost:8080/"
        },
        "id": "06TeK0J_BZ97",
        "outputId": "679fcdaa-3151-48c0-c5dc-a8ab906e3916"
      },
      "source": [
        "print(\"You typed\", len(word_tokenize(s)), \"words.\")"
      ],
      "execution_count": null,
      "outputs": [
        {
          "output_type": "stream",
          "text": [
            "You typed 3 words.\n"
          ],
          "name": "stdout"
        }
      ]
    },
    {
      "cell_type": "markdown",
      "metadata": {
        "id": "AkWBEwkdFfEu"
      },
      "source": [
        "**4. The NLP Pipeline**"
      ]
    },
    {
      "cell_type": "code",
      "metadata": {
        "id": "2Sk5ynAmBh7L"
      },
      "source": [
        "raw = open('document.txt').read()"
      ],
      "execution_count": null,
      "outputs": []
    },
    {
      "cell_type": "code",
      "metadata": {
        "colab": {
          "base_uri": "https://localhost:8080/"
        },
        "id": "aWXzYtAPBk43",
        "outputId": "d00f542c-3eca-4b24-c0fb-fb542f8fbb45"
      },
      "source": [
        "type(raw)"
      ],
      "execution_count": null,
      "outputs": [
        {
          "output_type": "execute_result",
          "data": {
            "text/plain": [
              "str"
            ]
          },
          "metadata": {
            "tags": []
          },
          "execution_count": 56
        }
      ]
    },
    {
      "cell_type": "code",
      "metadata": {
        "id": "gNISVf0UBnl3"
      },
      "source": [
        "tokens = word_tokenize(raw)"
      ],
      "execution_count": null,
      "outputs": []
    },
    {
      "cell_type": "code",
      "metadata": {
        "colab": {
          "base_uri": "https://localhost:8080/"
        },
        "id": "Jb1CYTMiBrGJ",
        "outputId": "ce8afe05-1027-4954-a640-6b5d8fa25df3"
      },
      "source": [
        "type(tokens)"
      ],
      "execution_count": null,
      "outputs": [
        {
          "output_type": "execute_result",
          "data": {
            "text/plain": [
              "list"
            ]
          },
          "metadata": {
            "tags": []
          },
          "execution_count": 58
        }
      ]
    },
    {
      "cell_type": "code",
      "metadata": {
        "id": "GNauyeRyBtqb"
      },
      "source": [
        "words = [w.lower() for w in tokens]"
      ],
      "execution_count": null,
      "outputs": []
    },
    {
      "cell_type": "code",
      "metadata": {
        "colab": {
          "base_uri": "https://localhost:8080/"
        },
        "id": "CU7MK8SSBwlK",
        "outputId": "de1e0a7e-b57c-4581-ab2b-b12ea599d215"
      },
      "source": [
        "type(words)"
      ],
      "execution_count": null,
      "outputs": [
        {
          "output_type": "execute_result",
          "data": {
            "text/plain": [
              "list"
            ]
          },
          "metadata": {
            "tags": []
          },
          "execution_count": 60
        }
      ]
    },
    {
      "cell_type": "code",
      "metadata": {
        "id": "Q9RoYScUBy5y"
      },
      "source": [
        "vocab = sorted(set(words))"
      ],
      "execution_count": null,
      "outputs": []
    },
    {
      "cell_type": "code",
      "metadata": {
        "colab": {
          "base_uri": "https://localhost:8080/"
        },
        "id": "k9yp8ALQB1dR",
        "outputId": "f48d9a07-efad-4d5a-853b-7a589f0ee0e3"
      },
      "source": [
        "type(vocab)"
      ],
      "execution_count": null,
      "outputs": [
        {
          "output_type": "execute_result",
          "data": {
            "text/plain": [
              "list"
            ]
          },
          "metadata": {
            "tags": []
          },
          "execution_count": 62
        }
      ]
    },
    {
      "cell_type": "code",
      "metadata": {
        "id": "qEZuftyfB4SL"
      },
      "source": [
        "vocab.append('blog')"
      ],
      "execution_count": null,
      "outputs": []
    },
    {
      "cell_type": "code",
      "metadata": {
        "colab": {
          "base_uri": "https://localhost:8080/"
        },
        "id": "enXwFp6eDH6u",
        "outputId": "03de7dd3-2cff-49ac-c5af-5eccf1969254"
      },
      "source": [
        "print(vocab)"
      ],
      "execution_count": null,
      "outputs": [
        {
          "output_type": "stream",
          "text": [
            "[',', '.', '50', ':', 'a', 'acronym', 'actions', 'addressing', 'after', 'all', 'and', 'around', 'as', 'automatic', 'bandler', 'be', 'been', 'behavioral', 'behaviors', 'believed', 'book', 'books', 'broadly', 'but', 'by', 'came', 'challenging', 'change', 'code', 'communication', 'computers', 'confused', 'data', 'deep', 'defined', 'despite', 'developed', 'different', 'discover', 'diverse', 'due', 'easier', 'empirical', 'evidence', 'examples', 'face', 'field', 'files', 'for', 'from', 'grew', 'grinder', 'has', 'how', 'i', 'identify', 'ii', 'important', 'in', 'including', 'individuals', 'is', 'issues', 'it', 'its', 'john', 'kick-start', 'know', 'lack', 'language', 'learning', 'like', 'linguistics', 'magic', 'make', 'makes', 'manipulation', 'many', 'modern', 'more', 'my', 'natural', 'new', 'nlp', 'not', 'of', 'off', 'on', 'or', 'other', 'others', 'out', 'partly', 'patterns', 'people', 'perceptual', 'popularity', 'possible', 'post', 'practitioners', 'processing', 'project', 'published', 'python', 'reading', 'relies', 'richard', 'rise', 'same', 'shares', 'short', 'should', 'so', 'software', 'source', 'speech', 'step-by-step', 'structure', 'study', 'successful', 'support', 'teach', 'techniques', 'text', 'than', 'that', 'the', 'their', 'them', 'this', 'thoughts', 'to', 'took', 'tutorials', 'two', 'types', 'uses', 'versatility', 'was', 'what', 'where', 'which', 'who', 'why', 'will', 'with', 'working', 'years', 'you', 'your', 'blog', 'blog']\n"
          ],
          "name": "stdout"
        }
      ]
    },
    {
      "cell_type": "code",
      "metadata": {
        "colab": {
          "base_uri": "https://localhost:8080/"
        },
        "id": "HpHOaPoZEfjN",
        "outputId": "0d65d49e-6021-4a6e-e659-4de5fd8162f8"
      },
      "source": [
        "print(raw)"
      ],
      "execution_count": null,
      "outputs": [
        {
          "output_type": "stream",
          "text": [
            "Natural Language Processing, or NLP for short, is broadly defined as the automatic manipulation of natural language, like speech and text, by software.\n",
            "\n",
            "The study of natural language processing has been around for more than 50 years and grew out of the field of linguistics with the rise of computers.\n",
            "\n",
            "In this post, you will discover what natural language processing is and why it is so important.\n",
            "\n",
            "After reading this post, you will know:\n",
            "\n",
            "What natural language is and how it is different from other types of data.\n",
            "What makes working with natural language so challenging.\n",
            "Where the field of NLP came from and how it is defined by modern practitioners.\n",
            "Kick-start your project with my new book Deep Learning for Natural Language Processing, including step-by-step tutorials and the Python source code files for all examples.\n",
            "NLP uses perceptual, behavioral, and communication techniques to make it easier for people to change their thoughts and actions.\n",
            "\n",
            "NLP relies on language processing but should not be confused with natural language processing, which shares the same acronym.\n",
            "\n",
            "NLP was developed by Richard Bandler and John Grinder, who believed it was possible to identify the patterns of thoughts and behaviors of successful individuals and to teach them to others.\n",
            "\n",
            "Despite a lack of empirical evidence to support it, Bandler and Grinder published two books, The Structure of Magic I and II, and NLP took off. Its popularity was partly due to its versatility in addressing the many diverse issues that people face.\n"
          ],
          "name": "stdout"
        }
      ]
    },
    {
      "cell_type": "code",
      "metadata": {
        "colab": {
          "base_uri": "https://localhost:8080/",
          "height": 167
        },
        "id": "OS5eW6cNB6yn",
        "outputId": "afc939d5-2dda-40de-f988-3acc91000f52"
      },
      "source": [
        "raw.append('blog')"
      ],
      "execution_count": null,
      "outputs": [
        {
          "output_type": "error",
          "ename": "AttributeError",
          "evalue": "ignored",
          "traceback": [
            "\u001b[0;31m---------------------------------------------------------------------------\u001b[0m",
            "\u001b[0;31mAttributeError\u001b[0m                            Traceback (most recent call last)",
            "\u001b[0;32m<ipython-input-71-8e056f716da5>\u001b[0m in \u001b[0;36m<module>\u001b[0;34m()\u001b[0m\n\u001b[0;32m----> 1\u001b[0;31m \u001b[0mraw\u001b[0m\u001b[0;34m.\u001b[0m\u001b[0mappend\u001b[0m\u001b[0;34m(\u001b[0m\u001b[0;34m'blog'\u001b[0m\u001b[0;34m)\u001b[0m\u001b[0;34m\u001b[0m\u001b[0;34m\u001b[0m\u001b[0m\n\u001b[0m",
            "\u001b[0;31mAttributeError\u001b[0m: 'str' object has no attribute 'append'"
          ]
        }
      ]
    },
    {
      "cell_type": "code",
      "metadata": {
        "id": "Gfs2PZ2xCob-"
      },
      "source": [
        "query = 'Who knows?'"
      ],
      "execution_count": null,
      "outputs": []
    },
    {
      "cell_type": "code",
      "metadata": {
        "id": "AoU0K2XgDFa1"
      },
      "source": [
        "beatles = ['john', 'paul', 'george', 'ringo']"
      ],
      "execution_count": null,
      "outputs": []
    },
    {
      "cell_type": "code",
      "metadata": {
        "colab": {
          "base_uri": "https://localhost:8080/",
          "height": 167
        },
        "id": "AFs5FoWaE-Cz",
        "outputId": "426b5f00-cd5d-4ab2-f383-e854c45ec219"
      },
      "source": [
        "query + beatles"
      ],
      "execution_count": null,
      "outputs": [
        {
          "output_type": "error",
          "ename": "TypeError",
          "evalue": "ignored",
          "traceback": [
            "\u001b[0;31m---------------------------------------------------------------------------\u001b[0m",
            "\u001b[0;31mTypeError\u001b[0m                                 Traceback (most recent call last)",
            "\u001b[0;32m<ipython-input-74-13a24f92f7f5>\u001b[0m in \u001b[0;36m<module>\u001b[0;34m()\u001b[0m\n\u001b[0;32m----> 1\u001b[0;31m \u001b[0mquery\u001b[0m \u001b[0;34m+\u001b[0m \u001b[0mbeatles\u001b[0m\u001b[0;34m\u001b[0m\u001b[0;34m\u001b[0m\u001b[0m\n\u001b[0m",
            "\u001b[0;31mTypeError\u001b[0m: can only concatenate str (not \"list\") to str"
          ]
        }
      ]
    }
  ]
}